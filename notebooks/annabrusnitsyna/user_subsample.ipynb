{
 "cells": [
  {
   "cell_type": "code",
   "execution_count": 87,
   "metadata": {},
   "outputs": [],
   "source": [
    "import pandas as pd\n",
    "import numpy as np\n",
    "import pickle\n",
    "import random\n",
    "\n",
    "orders = pd.read_csv('orders.csv')\n",
    "order_products_train = pd.read_csv('order_products__train.csv')\n",
    "order_products_prior = pd.read_csv('order_products__prior.csv')\n",
    "order_products = pd.concat([order_products_train, order_products_prior])[['order_id', 'product_id']]\n",
    "products = pd.read_csv('products.csv')\n",
    "order_products = pd.merge(orders, order_products, on='order_id')\n",
    "order_products = pd.merge(order_products, products, on='product_id')"
   ]
  },
  {
   "cell_type": "code",
   "execution_count": 88,
   "metadata": {},
   "outputs": [
    {
     "data": {
      "text/plain": [
       "['Banana',\n",
       " 'Bag of Organic Bananas',\n",
       " 'Organic Strawberries',\n",
       " 'Organic Baby Spinach',\n",
       " 'Organic Hass Avocado',\n",
       " 'Organic Avocado',\n",
       " 'Large Lemon',\n",
       " 'Strawberries',\n",
       " 'Limes',\n",
       " 'Organic Whole Milk',\n",
       " 'Organic Raspberries',\n",
       " 'Organic Yellow Onion',\n",
       " 'Organic Garlic',\n",
       " 'Organic Zucchini',\n",
       " 'Organic Blueberries',\n",
       " 'Cucumber Kirby',\n",
       " 'Organic Fuji Apple',\n",
       " 'Organic Lemon',\n",
       " 'Organic Grape Tomatoes',\n",
       " 'Apple Honeycrisp Organic']"
      ]
     },
     "execution_count": 88,
     "metadata": {},
     "output_type": "execute_result"
    }
   ],
   "source": [
    "top_products = order_products['product_name'].value_counts().head(20).index.tolist()\n",
    "top_products"
   ]
  },
  {
   "cell_type": "code",
   "execution_count": 89,
   "metadata": {},
   "outputs": [],
   "source": [
    "func = lambda x: len(x[x['product_name'].isin(top_products)]) / len(x)\n",
    "tmp = order_products.groupby('user_id').apply(func).sort_values()"
   ]
  },
  {
   "cell_type": "code",
   "execution_count": 90,
   "metadata": {},
   "outputs": [],
   "source": [
    "sorted_user_ids = [int(x) for x in tmp.index]\n",
    "highest_percentage_user_ids = sorted_user_ids[-500:]\n",
    "lowest_percentage_user_ids = sorted_user_ids[:500]\n",
    "random_user_ids = random.sample(sorted_user_ids[500:-500], 1000)"
   ]
  },
  {
   "cell_type": "code",
   "execution_count": 91,
   "metadata": {},
   "outputs": [],
   "source": [
    "users_subsample = highest_percentage_user_ids + lowest_percentage_user_ids + random_user_ids\n",
    "with open('users_subsample.pickle', 'wb') as out:\n",
    "    pickle.dump(users_subsample, out)"
   ]
  },
  {
   "cell_type": "code",
   "execution_count": null,
   "metadata": {},
   "outputs": [],
   "source": []
  },
  {
   "cell_type": "code",
   "execution_count": null,
   "metadata": {},
   "outputs": [],
   "source": []
  }
 ],
 "metadata": {
  "kernelspec": {
   "display_name": "Python 3",
   "language": "python",
   "name": "python3"
  },
  "language_info": {
   "codemirror_mode": {
    "name": "ipython",
    "version": 3
   },
   "file_extension": ".py",
   "mimetype": "text/x-python",
   "name": "python",
   "nbconvert_exporter": "python",
   "pygments_lexer": "ipython3",
   "version": "3.7.4"
  }
 },
 "nbformat": 4,
 "nbformat_minor": 2
}
