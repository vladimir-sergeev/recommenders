{
 "cells": [
  {
   "cell_type": "code",
   "execution_count": 1,
   "metadata": {},
   "outputs": [],
   "source": [
    "import pandas as pd\n",
    "import scipy.sparse\n",
    "import numpy as np\n",
    "import pickle\n",
    "from sklearn.metrics.pairwise import cosine_distances\n",
    "from sklearn.decomposition import TruncatedSVD"
   ]
  },
  {
   "cell_type": "code",
   "execution_count": 2,
   "metadata": {},
   "outputs": [],
   "source": [
    "class ItemBasedRecommender():\n",
    "    \n",
    "    def __init__(self, train_data, validation_data, test_data):\n",
    "        self.train_data = train_data\n",
    "        self.validation_data = validation_data\n",
    "        self.test_data = test_data\n",
    "        self.user_item = self.get_user_item()\n",
    "        \n",
    "    def get_user_item(self):\n",
    "        '''Create user-item matrix from train_data.'''\n",
    "        users = [user for user, items in self.train_data.items() for _ in range(len(items))]\n",
    "        items = [item for items in self.train_data.values() for item in items]\n",
    "        user_item = scipy.sparse.csc_matrix((np.ones(len(users)), (users, items)))\n",
    "        return user_item\n",
    "    \n",
    "    def fit(self, components_number, save_path=False):\n",
    "        '''\n",
    "        Get singular value decomposition of user-item matrix.\n",
    "        \n",
    "        components_number -- value for reduced dimension\n",
    "        save_path -- path to file to save svd-model (if False do not save)\n",
    "        '''\n",
    "        svd = TruncatedSVD(n_components=components_number)\n",
    "        self.user_vector = svd.fit_transform(self.user_item)\n",
    "        self.item_vector = svd.components_\n",
    "        self.explained_variance = svd.explained_variance_ratio_.sum()\n",
    "        if save_path:\n",
    "            with open(save_path, 'wb') as out:\n",
    "                pickle.dump(svd, out)\n",
    "                \n",
    "    def set_svd(self, path_to_svd):\n",
    "        '''\n",
    "        Load svd-model from file.\n",
    "        \n",
    "        path_to_svd -- path to file with svd-model\n",
    "        '''\n",
    "        with open(path_to_svd, 'rb') as inp:\n",
    "            svd = pickle.load(inp)\n",
    "        self.user_vector = svd.transform(self.user_item)\n",
    "        self.item_vector = svd.components_\n",
    "        self.explained_variance = svd.explained_variance_ratio_.sum() \n",
    "        \n",
    "    def predict_on_items(self, items_list, predictions_number):\n",
    "        '''\n",
    "        Get top predictions based on list of items.\n",
    "        Find mean-vector of items from list. Calculate distances between mean-vector and each item form item_vector.\n",
    "        Get top items with smallest distances.\n",
    "        '''\n",
    "        item_mean = np.mean(self.item_vector[:, items_list], 1)\n",
    "        distance = cosine_distances([item_mean], self.item_vector.T)\n",
    "        recommendation = np.argsort(distance)[0]\n",
    "        return recommendation[:predictions_number]\n",
    "    \n",
    "    def predict_for_user(self, user_id, predictions_number):\n",
    "        '''Get top predictions for user.'''\n",
    "        return self.predict_on_items(self.train_data[user_id], predictions_number)\n",
    "    \n",
    "    def predict_for_top_k_users(self, predictions_number, user_number=100, path_to_save=False):\n",
    "        '''\n",
    "        Get pridictions for several top users.\n",
    "        \n",
    "        path_to_save -- path to file to save results (if False do not save)\n",
    "        '''\n",
    "        recommendations = {key: [] for key in range(1, user_number + 1)}\n",
    "        for user_id in range(1, user_number + 1):\n",
    "            recommendations[user_id] = self.predict_for_user(user_id, predictions_number)\n",
    "        if path_to_save:\n",
    "            with open(path_to_save, 'wb') as out:\n",
    "                pickle.dump(recommendations, out)            \n",
    "        return recommendations\n",
    "    \n",
    "    def get_mapk(self, predicted, k=100):\n",
    "        '''Get mean average precision at k in train, validation and test data.'''\n",
    "        train_mapk = mapk(list(self.train_data.values()), predicted.values(), k)\n",
    "        validation_mapk = mapk(list(self.validation_data.values()), predicted.values(), k)\n",
    "        test_mapk = mapk(list(self.test_data.values()), predicted.values(), k)\n",
    "        return train_mapk, validation_mapk, test_mapk"
   ]
  },
  {
   "cell_type": "code",
   "execution_count": 3,
   "metadata": {},
   "outputs": [],
   "source": [
    "def load_data():\n",
    "    with open('train_indices.pickle', 'rb') as input:\n",
    "        train_indices = pickle.load(input)\n",
    "    with open('test_indices.pickle', 'rb') as input:\n",
    "        test_indices = pickle.load(input)\n",
    "    with open('validation_indices.pickle', 'rb') as input:\n",
    "        validation_indices = pickle.load(input)\n",
    "        \n",
    "    orders = pd.read_csv('orders.csv')[['user_id', 'order_id']]\n",
    "    train_ids = orders.loc[train_indices]['order_id']\n",
    "    test_ids = orders.loc[test_indices]['order_id']    \n",
    "    validation_ids = orders.loc[validation_indices]['order_id']\n",
    "    \n",
    "    order_products_prior = pd.read_csv('order_products__prior.csv')[['product_id', 'order_id']]\n",
    "    order_products_train = pd.read_csv('order_products__train.csv')[['product_id', 'order_id']]\n",
    "    order_products = pd.concat([order_products_prior, order_products_train])\n",
    "    orders = pd.merge(order_products, orders, on = 'order_id')\n",
    "    \n",
    "    orders_tmp = orders[orders['order_id'].isin(train_ids)].drop('order_id', 1).drop_duplicates()\n",
    "    train_data = dict(orders_tmp.groupby('user_id')['product_id'].apply(list))\n",
    "    \n",
    "    orders_tmp = orders[orders['order_id'].isin(validation_ids)].drop('order_id', 1).drop_duplicates()\n",
    "    validation_data = dict(orders_tmp.groupby('user_id')['product_id'].apply(list))\n",
    "    \n",
    "    orders_tmp = orders[orders['order_id'].isin(test_ids)].drop('order_id', 1).drop_duplicates()\n",
    "    test_data = dict(orders_tmp.groupby('user_id')['product_id'].apply(list))\n",
    "    \n",
    "    return train_data, test_data, validation_data"
   ]
  },
  {
   "cell_type": "code",
   "execution_count": null,
   "metadata": {},
   "outputs": [],
   "source": []
  },
  {
   "cell_type": "code",
   "execution_count": 4,
   "metadata": {},
   "outputs": [],
   "source": [
    "train_data, test_data, validation_data = load_data()"
   ]
  },
  {
   "cell_type": "code",
   "execution_count": 150,
   "metadata": {},
   "outputs": [
    {
     "name": "stdout",
     "output_type": "stream",
     "text": [
      "100 components:\n",
      "  explained variance = 0.18435014044214285\n",
      "  mapk on train data 0.10754280829665397\n",
      "  mapk on validation data 0.006820886938998394\n",
      "  mapk on test data 0.03410335551384774\n",
      "200 components:\n",
      "  explained variance = 0.25250496388883403\n",
      "  mapk on train data 0.21328698895084452\n",
      "  mapk on validation data 0.00623413773189315\n",
      "  mapk on test data 0.056325814984829255\n",
      "500 components:\n",
      "  explained variance = 0.3732448488489145\n",
      "  mapk on train data 0.43267215338558124\n",
      "  mapk on validation data 0.009727514862254283\n",
      "  mapk on test data 0.11394629248102543\n",
      "1000 components:\n",
      "  explained variance = 0.4860676706008714\n",
      "  mapk on train data 0.6298627669810279\n",
      "  mapk on validation data 0.010525327816891283\n",
      "  mapk on test data 0.12423077886807064\n",
      "2000 components:\n",
      "  explained variance = 0.6147765978009663\n",
      "  mapk on train data 0.8154144136547943\n",
      "  mapk on validation data 0.015386636963480409\n",
      "  mapk on test data 0.16308892586413926\n"
     ]
    }
   ],
   "source": [
    "recommender = ItemBasedRecommender(train_data, test_data, validation_data)\n",
    "for comp_num in [100, 200, 500, 1000, 2000]:\n",
    "    print(str(comp_num) + ' components:')\n",
    "    recommender.fit(comp_num, 'svd-' + str(comp_num) + '.pickle')\n",
    "    print('  explained variance = ' + str(recommender.explained_variance))\n",
    "    predicted = recommender.predict_for_top_k_users(20)\n",
    "    train_mapk, validation_mapk, test_mapk = recommender.get_mapk(predicted, 20)\n",
    "    print('  mapk on train data ' + str(train_mapk))\n",
    "    print('  mapk on validation data ' + str(validation_mapk))\n",
    "    print('  mapk on test data ' + str(test_mapk))"
   ]
  },
  {
   "cell_type": "code",
   "execution_count": 151,
   "metadata": {},
   "outputs": [
    {
     "data": {
      "image/png": "[encoded data removed]",
      "text/plain": [
       "<Figure size 720x432 with 1 Axes>"
      ]
     },
     "metadata": {
      "needs_background": "light"
     },
     "output_type": "display_data"
    }
   ],
   "source": [
    "import matplotlib.pyplot as plt\n",
    "\n",
    "predicted = recommender.predict_for_top_k_users(50)\n",
    "train_values = []\n",
    "validation_values = []\n",
    "test_values = []\n",
    "for k in range(5, 50, 3):\n",
    "    train_mapk, validation_mapk, test_mapk = recommender.get_mapk(predicted, k)\n",
    "    train_values.append(train_mapk)\n",
    "    validation_values.append(validation_mapk)\n",
    "    test_values.append(test_mapk)\n",
    "plt.figure(figsize=(10, 6))\n",
    "plt.plot(range(5, 50, 3), train_values, label='train', c='g')\n",
    "plt.plot(range(5, 50, 3), validation_values, label='validation', c='b')\n",
    "plt.plot(range(5, 50, 3), test_values, label='test', c='r')\n",
    "plt.legend(loc='upper right')\n",
    "plt.title('MAP@k')\n",
    "plt.show()"
   ]
  },
  {
   "cell_type": "code",
   "execution_count": 152,
   "metadata": {},
   "outputs": [
    {
     "name": "stdout",
     "output_type": "stream",
     "text": [
      "Recommendations:\n",
      "Dark Chocolate Almondmilk\n",
      "Shredded Mexican Blend Cheese\n",
      "Hass Avocados\n",
      "Organic Marinara Sauce\n",
      "Sprouted Whole Wheat Bread\n",
      "Corn Tortillas\n",
      "Organic Whole Milk Yogurt\n",
      "Unsweetened Vanilla Almond Breeze\n",
      "Grilled Chicken Taquitos\n",
      "Organic Plain Yogurt\n",
      "Bean & Cheese Burrito\n",
      "Boudin Sliced Sourdough Round\n",
      "Creamy Almond Butter\n",
      "8\\\" Flour Tortillas De Harina\n",
      "Breakfast Patties\n",
      "Organic Tortilla Chips\n",
      "Sweet Kale Salad Mix\n",
      "Strawberry Spread\n",
      "Pork Tamales\n",
      "Ibuprofen\n",
      "\n",
      "Actual:\n",
      "Shredded Mexican Blend Cheese\n",
      "Hass Avocados\n",
      "Sprouted Whole Wheat Bread\n",
      "Corn Tortillas\n",
      "Unsweetened Vanilla Almond Breeze\n",
      "Organic Medium Chili\n",
      "Organic Plain Yogurt\n",
      "Bean & Cheese Burrito\n",
      "Teriyaki & Pineapple Chicken Meatballs\n",
      "Creamy Almond Butter\n",
      "Organic Tortilla Chips\n",
      "Sweet Kale Salad Mix\n",
      "Organic Avocados Hass Variety\n",
      "French Roast Whole Bean Coffee\n",
      "Sweet & Salty Nut Granola Bars Peanut\n",
      "\n",
      "Common:\n",
      "Shredded Mexican Blend Cheese\n",
      "Hass Avocados\n",
      "Sprouted Whole Wheat Bread\n",
      "Corn Tortillas\n",
      "Unsweetened Vanilla Almond Breeze\n",
      "Organic Plain Yogurt\n",
      "Bean & Cheese Burrito\n",
      "Creamy Almond Butter\n",
      "Organic Tortilla Chips\n",
      "Sweet Kale Salad Mix\n"
     ]
    }
   ],
   "source": [
    "user_id = 123\n",
    "predicted = recommender.predict_for_user(user_id, 20)\n",
    "actual = np.array(train_data[user_id])\n",
    "common = np.intersect1d(predicted, actual)\n",
    "products = pd.read_csv('products.csv')\n",
    "predicted = list(products[products['product_id'].isin(predicted)]['product_name'])\n",
    "actual = list(products[products['product_id'].isin(actual)]['product_name'])\n",
    "common = list(products[products['product_id'].isin(common)]['product_name'])\n",
    "print('Recommendations:')\n",
    "print(*predicted, sep='\\n')\n",
    "print('\\nActual:')\n",
    "print(*actual, sep='\\n')\n",
    "print('\\nCommon:')\n",
    "print(*common, sep='\\n')"
   ]
  },
  {
   "cell_type": "code",
   "execution_count": 13,
   "metadata": {},
   "outputs": [
    {
     "name": "stdout",
     "output_type": "stream",
     "text": [
      "user 6: [38293, 20323, 40992, 21903, 45007, 11068, 10644, 27521, 48679]\n",
      "predict for user: [40992 21903 45007 48679 27521]\n",
      "items: [38293, 20323, 40992, 21903, 45007]\n",
      "predict on items: [40992 21903 45007 38293 20323]\n"
     ]
    }
   ],
   "source": [
    "recommender = ItemBasedRecommender(train_data, test_data, validation_data)\n",
    "recommender.set_svd('svd-2000.pickle')\n",
    "print('user 6: ' + str(train_data[6]))\n",
    "print('predict for user: ' + str(recommender.predict_for_user(6, 5)))\n",
    "items = [38293, 20323, 40992, 21903, 45007]\n",
    "print('items: ' + str(items))\n",
    "print(\"predict on items: \" + str(recommender.predict_on_items(items, 5)))"
   ]
  },
  {
   "cell_type": "code",
   "execution_count": null,
   "metadata": {},
   "outputs": [],
   "source": []
  }
 ],
 "metadata": {
  "kernelspec": {
   "display_name": "Python 3",
   "language": "python",
   "name": "python3"
  },
  "language_info": {
   "codemirror_mode": {
    "name": "ipython",
    "version": 3
   },
   "file_extension": ".py",
   "mimetype": "text/x-python",
   "name": "python",
   "nbconvert_exporter": "python",
   "pygments_lexer": "ipython3",
   "version": "3.7.4"
  }
 },
 "nbformat": 4,
 "nbformat_minor": 2
}
