{
 "cells": [
  {
   "cell_type": "code",
   "execution_count": 1,
   "metadata": {},
   "outputs": [],
   "source": [
    "import pandas as pd\n",
    "import numpy as np\n",
    "import pickle\n",
    "from most_popular_recommender import *\n",
    "from metrics import mapk"
   ]
  },
  {
   "cell_type": "code",
   "execution_count": 2,
   "metadata": {},
   "outputs": [],
   "source": [
    "def _split_indices(grouped_ratings, retriever):\n",
    "    return np.concatenate(grouped_ratings.apply(retriever).values)\n",
    "\n",
    "def split(orders):\n",
    "    grouper = orders.sort_values('order_number').groupby('user_id')\n",
    "    train_indices = _split_indices(\n",
    "        grouper,\n",
    "        lambda user_ratings: user_ratings[:int(user_ratings.shape[0] * 0.5)].index.values)\n",
    "    \n",
    "    validation_indices = _split_indices(\n",
    "        grouper,\n",
    "        lambda user_ratings: user_ratings.iloc[int(user_ratings.shape[0] * 0.5):\n",
    "                                               int(user_ratings.shape[0] * 0.75)].index.values)\n",
    "    \n",
    "    test_indices = _split_indices(\n",
    "        grouper,\n",
    "        lambda user_ratings: user_ratings.iloc[int(user_ratings.shape[0] * 0.75):].index.values)\n",
    "    \n",
    "    return train_indices, validation_indices, test_indices\n",
    "\n",
    "def save_indices():\n",
    "    # save results\n",
    "    with open('train_indices.pickle', 'wb') as out:\n",
    "        pickle.dump(train_indices, out)\n",
    "\n",
    "    with open('validation_indices.pickle', 'wb') as out:\n",
    "        pickle.dump(validation_indices, out)\n",
    "\n",
    "    with open('test_indices.pickle', 'wb') as out:\n",
    "        pickle.dump(test_indices, out)"
   ]
  },
  {
   "cell_type": "code",
   "execution_count": 3,
   "metadata": {},
   "outputs": [],
   "source": [
    "def read_data():\n",
    "    \n",
    "    products_df = pd.read_csv('products.csv')\n",
    "    orders_df = pd.read_csv('orders.csv')\n",
    "    order_products_prior_df = pd.read_csv('order_products__prior.csv')\n",
    "    order_products_train_df = pd.read_csv('order_products__train.csv')\n",
    "    order_products_df = pd.concat([order_products_prior_df, order_products_train_df])\n",
    "    \n",
    "    return products_df, orders_df, order_products_df"
   ]
  },
  {
   "cell_type": "code",
   "execution_count": 4,
   "metadata": {},
   "outputs": [],
   "source": [
    "def get_split_df(orders, order_products):\n",
    "\n",
    "    with open('train_indices.pickle', 'rb') as input:\n",
    "        train_indices = pickle.load(input)\n",
    "\n",
    "    with open('validation_indices.pickle', 'rb') as input:\n",
    "        validation_indices = pickle.load(input)\n",
    "\n",
    "    with open('test_indices.pickle', 'rb') as input:\n",
    "        test_indices = pickle.load(input)\n",
    "        \n",
    "    train_df = orders.loc[train_indices]\n",
    "    validation_df = orders.loc[validation_indices]\n",
    "    test_df = orders.loc[test_indices]\n",
    "    \n",
    "    return train_df, validation_df, test_df"
   ]
  },
  {
   "cell_type": "code",
   "execution_count": 5,
   "metadata": {},
   "outputs": [],
   "source": [
    "def get_actual_results():\n",
    "    merged = pd.merge(test, order_products, on='order_id')[['user_id', 'product_id']]\n",
    "    actual_df = (merged.groupby('user_id')['product_id'].apply(lambda x: list(set(x))).reset_index()\n",
    "                 .rename(columns={'product_id': 'ground_truth'})) \n",
    "\n",
    "    return actual_df.sort_values(by=['user_id'])"
   ]
  },
  {
   "cell_type": "code",
   "execution_count": 6,
   "metadata": {},
   "outputs": [],
   "source": [
    "products, orders, order_products = read_data()"
   ]
  },
  {
   "cell_type": "code",
   "execution_count": 7,
   "metadata": {},
   "outputs": [],
   "source": [
    "train_indices, validation_indices, test_indices = split(orders)\n",
    "save_indices()"
   ]
  },
  {
   "cell_type": "code",
   "execution_count": 8,
   "metadata": {},
   "outputs": [],
   "source": [
    "train, valid, test = get_split_df(orders, order_products)"
   ]
  },
  {
   "cell_type": "code",
   "execution_count": 9,
   "metadata": {},
   "outputs": [],
   "source": [
    "mpr = MostPopularRecommender(train, valid, test, orders, order_products)\n",
    "mpr.fit()"
   ]
  },
  {
   "cell_type": "code",
   "execution_count": 10,
   "metadata": {},
   "outputs": [],
   "source": [
    "users = orders['user_id'].unique()\n",
    "top_k = 10"
   ]
  },
  {
   "cell_type": "code",
   "execution_count": 11,
   "metadata": {},
   "outputs": [
    {
     "data": {
      "text/html": [
       "<div>\n",
       "<style scoped>\n",
       "    .dataframe tbody tr th:only-of-type {\n",
       "        vertical-align: middle;\n",
       "    }\n",
       "\n",
       "    .dataframe tbody tr th {\n",
       "        vertical-align: top;\n",
       "    }\n",
       "\n",
       "    .dataframe thead th {\n",
       "        text-align: right;\n",
       "    }\n",
       "</style>\n",
       "<table border=\"1\" class=\"dataframe\">\n",
       "  <thead>\n",
       "    <tr style=\"text-align: right;\">\n",
       "      <th></th>\n",
       "      <th>user_id</th>\n",
       "      <th>predictions</th>\n",
       "    </tr>\n",
       "  </thead>\n",
       "  <tbody>\n",
       "    <tr>\n",
       "      <td>0</td>\n",
       "      <td>1</td>\n",
       "      <td>[24852, 13176, 21137, 21903, 47209, 47766, 262...</td>\n",
       "    </tr>\n",
       "    <tr>\n",
       "      <td>1</td>\n",
       "      <td>2</td>\n",
       "      <td>[24852, 13176, 21137, 21903, 47209, 47766, 262...</td>\n",
       "    </tr>\n",
       "    <tr>\n",
       "      <td>2</td>\n",
       "      <td>3</td>\n",
       "      <td>[24852, 13176, 21137, 21903, 47209, 47766, 262...</td>\n",
       "    </tr>\n",
       "    <tr>\n",
       "      <td>3</td>\n",
       "      <td>4</td>\n",
       "      <td>[24852, 13176, 21137, 21903, 47209, 47766, 262...</td>\n",
       "    </tr>\n",
       "    <tr>\n",
       "      <td>4</td>\n",
       "      <td>5</td>\n",
       "      <td>[24852, 13176, 21137, 21903, 47209, 47766, 262...</td>\n",
       "    </tr>\n",
       "    <tr>\n",
       "      <td>...</td>\n",
       "      <td>...</td>\n",
       "      <td>...</td>\n",
       "    </tr>\n",
       "    <tr>\n",
       "      <td>206204</td>\n",
       "      <td>206205</td>\n",
       "      <td>[24852, 13176, 21137, 21903, 47209, 47766, 262...</td>\n",
       "    </tr>\n",
       "    <tr>\n",
       "      <td>206205</td>\n",
       "      <td>206206</td>\n",
       "      <td>[24852, 13176, 21137, 21903, 47209, 47766, 262...</td>\n",
       "    </tr>\n",
       "    <tr>\n",
       "      <td>206206</td>\n",
       "      <td>206207</td>\n",
       "      <td>[24852, 13176, 21137, 21903, 47209, 47766, 262...</td>\n",
       "    </tr>\n",
       "    <tr>\n",
       "      <td>206207</td>\n",
       "      <td>206208</td>\n",
       "      <td>[24852, 13176, 21137, 21903, 47209, 47766, 262...</td>\n",
       "    </tr>\n",
       "    <tr>\n",
       "      <td>206208</td>\n",
       "      <td>206209</td>\n",
       "      <td>[24852, 13176, 21137, 21903, 47209, 47766, 262...</td>\n",
       "    </tr>\n",
       "  </tbody>\n",
       "</table>\n",
       "<p>206209 rows × 2 columns</p>\n",
       "</div>"
      ],
      "text/plain": [
       "        user_id                                        predictions\n",
       "0             1  [24852, 13176, 21137, 21903, 47209, 47766, 262...\n",
       "1             2  [24852, 13176, 21137, 21903, 47209, 47766, 262...\n",
       "2             3  [24852, 13176, 21137, 21903, 47209, 47766, 262...\n",
       "3             4  [24852, 13176, 21137, 21903, 47209, 47766, 262...\n",
       "4             5  [24852, 13176, 21137, 21903, 47209, 47766, 262...\n",
       "...         ...                                                ...\n",
       "206204   206205  [24852, 13176, 21137, 21903, 47209, 47766, 262...\n",
       "206205   206206  [24852, 13176, 21137, 21903, 47209, 47766, 262...\n",
       "206206   206207  [24852, 13176, 21137, 21903, 47209, 47766, 262...\n",
       "206207   206208  [24852, 13176, 21137, 21903, 47209, 47766, 262...\n",
       "206208   206209  [24852, 13176, 21137, 21903, 47209, 47766, 262...\n",
       "\n",
       "[206209 rows x 2 columns]"
      ]
     },
     "execution_count": 11,
     "metadata": {},
     "output_type": "execute_result"
    }
   ],
   "source": [
    "mpr.predict(users, top_k)"
   ]
  },
  {
   "cell_type": "code",
   "execution_count": 12,
   "metadata": {},
   "outputs": [],
   "source": [
    "merged = pd.merge(mpr.predict(users, top_k), get_actual_results(), on='user_id')"
   ]
  },
  {
   "cell_type": "code",
   "execution_count": 13,
   "metadata": {},
   "outputs": [],
   "source": [
    "actual = list(merged['ground_truth'])\n",
    "predicted = list(merged['predictions'])"
   ]
  },
  {
   "cell_type": "code",
   "execution_count": 14,
   "metadata": {},
   "outputs": [
    {
     "data": {
      "text/plain": [
       "0.0376583726437911"
      ]
     },
     "execution_count": 14,
     "metadata": {},
     "output_type": "execute_result"
    }
   ],
   "source": [
    "mapk(actual, predicted, 30)"
   ]
  },
  {
   "cell_type": "code",
   "execution_count": null,
   "metadata": {},
   "outputs": [],
   "source": []
  }
 ],
 "metadata": {
  "kernelspec": {
   "display_name": "Python 3",
   "language": "python",
   "name": "python3"
  },
  "language_info": {
   "codemirror_mode": {
    "name": "ipython",
    "version": 3
   },
   "file_extension": ".py",
   "mimetype": "text/x-python",
   "name": "python",
   "nbconvert_exporter": "python",
   "pygments_lexer": "ipython3",
   "version": "3.7.4"
  }
 },
 "nbformat": 4,
 "nbformat_minor": 2
}
