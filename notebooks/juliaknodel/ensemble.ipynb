{
 "cells": [
  {
   "cell_type": "code",
   "execution_count": 101,
   "metadata": {},
   "outputs": [],
   "source": [
    "import pickle\n",
    "import numpy as np\n",
    "from metrics import mapk\n",
    "from collections import defaultdict"
   ]
  },
  {
   "cell_type": "code",
   "execution_count": 92,
   "metadata": {},
   "outputs": [],
   "source": [
    "# подразумеваются результаты для 2к определенных пользователей, иначе надо добавить проверку по id\n",
    "class Ensemble():\n",
    "    def __init__(self, most_popular_prediction, item_based_prediction, user_based_prediction, actual_purchases):\n",
    "        '''\n",
    "        :param most_popular_predict: dictionary like {user_id: [predicted products]}\n",
    "        :param item_based_predict: dictionary like {user_id: [predicted products]}\n",
    "        :param user_based_predict: dictionary like {user_id: [predicted products]}\n",
    "        :param actual_purchases: dictionary like {user_id: [actual products]}\n",
    "        '''\n",
    "        self.predictions = {'most popular': most_popular_prediction,\n",
    "                            'item based'  : item_based_prediction,\n",
    "                            'user based'  : user_based_prediction}\n",
    "        self.actual = actual_purchases\n",
    "        \n",
    "    # AP@k\n",
    "    def apk(self, actual, predicted, k=10):\n",
    "        \n",
    "        if len(predicted) > k:\n",
    "            predicted = predicted[:k]\n",
    "\n",
    "        score = 0.0\n",
    "        num_hits = 0.0\n",
    "\n",
    "        for i,p in enumerate(predicted):\n",
    "            if p in actual and p not in predicted[:i]:\n",
    "                num_hits += 1.0\n",
    "                score += num_hits / (i+1.0)\n",
    "\n",
    "        if not actual:\n",
    "            return 0.0\n",
    "\n",
    "        return score / min(len(actual), k)\n",
    "    \n",
    "    def fit(self, users_ids=False):\n",
    "        '''\n",
    "        :param user_ids: list with IDs of interesting users (2k)\n",
    "        :return: dict {user_id: [products ids from best prediction]}\n",
    "        '''\n",
    "        if not users_ids:\n",
    "            users_ids = [*self.predictions['user based']]\n",
    "\n",
    "        self.predictions, self.predictions_models = self.get_best_predictions(users_ids=users_ids)\n",
    "        return self.predictions, self.predictions_models\n",
    "    \n",
    "    def get_best_predictions(self, users_ids):\n",
    "        predictions = {}\n",
    "        predictions_models = {}\n",
    "        \n",
    "        d = {0: 'most popular', 1: 'item based', 2:'user based'}\n",
    "        \n",
    "        for user_id in users_ids:\n",
    "            if user_id in self.predictions['most popular'] and \\\n",
    "                user_id in self.predictions['item based'] and \\\n",
    "                user_id in self.predictions['user based'] and \\\n",
    "                user_id in self.actual:\n",
    "                \n",
    "                # в actual нет юзера с id7, поэтому проверку оставляем\n",
    "                \n",
    "                metrics = np.array([self.apk(self.actual[user_id], self.predictions['most popular'][user_id]),\n",
    "                                    self.apk(self.actual[user_id], self.predictions['item based'][user_id]),\n",
    "                                    self.apk(self.actual[user_id], self.predictions['user based'][user_id])])\n",
    "                \n",
    "                # результатом будет предсказание и название модели, сделавшей его\n",
    "                predictions_models[user_id] = d[np.argmax(metrics)]\n",
    "                predictions[user_id] = self.predictions[d[np.argmax(metrics)]][user_id]\n",
    "                \n",
    "        return predictions, predictions_models\n",
    "    \n",
    "    def predict(self, user_id=False):\n",
    "        if user_id:\n",
    "            return self.predictions[user_id], self.predictions_models[user_id]\n",
    "        else:\n",
    "            return self.predictions, self.predictions_models"
   ]
  },
  {
   "cell_type": "code",
   "execution_count": 52,
   "metadata": {},
   "outputs": [],
   "source": [
    "with open('data/user_based_first_2k.pickle', 'rb') as f:\n",
    "    user_based_prediction = pickle.load(f)\n",
    "    \n",
    "with open('data/item_based_random_2k.pickle', 'rb') as f:\n",
    "    item_based_prediction = pickle.load(f)\n",
    "    \n",
    "with open('data/most_popular_full.pickle', 'rb') as f:\n",
    "    most_popular_prediction = pickle.load(f)\n",
    "    \n",
    "with open('data/full_actual_purchases.pickle', 'rb') as f:\n",
    "    actual_purchases = pickle.load(f)"
   ]
  },
  {
   "cell_type": "code",
   "execution_count": 48,
   "metadata": {},
   "outputs": [],
   "source": [
    "# dict's to check how class works\n",
    "mp = {1: [1, 2, 10, 4], 2: [3, 4, 5, 6], 5: [1, 2, 3, 4, 5]}\n",
    "ib = {1: [6, 2, 3, 12], 2: [3, 5, 4, 6], 5: [5, 22, 3, 4]}\n",
    "ub = {1: [1, 2, 3, 12], 2: [6, 4, 5, 9], 5: [1, 11, 4, 8]}\n",
    "actual = {1: [1, 2, 3, 11], 2: [3, 4, 5, 9], 5: [5, 11, 3, 5]}"
   ]
  },
  {
   "cell_type": "code",
   "execution_count": 93,
   "metadata": {},
   "outputs": [],
   "source": [
    "predictor = Ensemble(most_popular_prediction, item_based_prediction, user_based_prediction, actual_purchases)"
   ]
  },
  {
   "cell_type": "code",
   "execution_count": 94,
   "metadata": {},
   "outputs": [],
   "source": [
    "users_ids = [i for i in range(1, 2001)]"
   ]
  },
  {
   "cell_type": "code",
   "execution_count": 95,
   "metadata": {},
   "outputs": [],
   "source": [
    "predictions = predictor.fit(users_ids)"
   ]
  },
  {
   "cell_type": "code",
   "execution_count": 102,
   "metadata": {},
   "outputs": [],
   "source": [
    "d = defaultdict(int)\n",
    "for model in predictions[1].values():\n",
    "    d[model] +=1"
   ]
  },
  {
   "cell_type": "code",
   "execution_count": 103,
   "metadata": {},
   "outputs": [
    {
     "data": {
      "text/plain": [
       "defaultdict(int, {'user based': 467, 'item based': 1128, 'most popular': 316})"
      ]
     },
     "execution_count": 103,
     "metadata": {},
     "output_type": "execute_result"
    }
   ],
   "source": [
    "d"
   ]
  },
  {
   "cell_type": "code",
   "execution_count": 105,
   "metadata": {},
   "outputs": [
    {
     "name": "stdout",
     "output_type": "stream",
     "text": [
      "0.6143380429094715 0.38072257107971386 0.2849083102047144 0.1597770726667455\n"
     ]
    }
   ],
   "source": [
    "print(mapk(actual_purchases.values(), predictions[0].values(), k=1),\n",
    "      mapk(actual_purchases.values(), predictions[0].values(), k=5),\n",
    "      mapk(actual_purchases.values(), predictions[0].values(), k=10),\n",
    "      mapk(actual_purchases.values(), predictions[0].values(), k=30))"
   ]
  },
  {
   "cell_type": "code",
   "execution_count": null,
   "metadata": {},
   "outputs": [],
   "source": []
  }
 ],
 "metadata": {
  "kernelspec": {
   "display_name": "Python 3",
   "language": "python",
   "name": "python3"
  },
  "language_info": {
   "codemirror_mode": {
    "name": "ipython",
    "version": 3
   },
   "file_extension": ".py",
   "mimetype": "text/x-python",
   "name": "python",
   "nbconvert_exporter": "python",
   "pygments_lexer": "ipython3",
   "version": "3.7.6"
  }
 },
 "nbformat": 4,
 "nbformat_minor": 4
}
