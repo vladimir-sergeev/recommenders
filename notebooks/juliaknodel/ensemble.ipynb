{
 "cells": [
  {
   "cell_type": "code",
   "execution_count": 2,
   "metadata": {},
   "outputs": [],
   "source": [
    "import pickle\n",
    "import numpy as np\n",
    "from metrics import mapk\n",
    "from collections import defaultdict"
   ]
  },
  {
   "cell_type": "code",
   "execution_count": 71,
   "metadata": {},
   "outputs": [],
   "source": [
    "# подразумеваются результаты для 2к определенных пользователей, иначе надо добавить проверку по id\n",
    "class Ensemble():\n",
    "    def __init__(self, most_popular_prediction, item_based_prediction, user_based_prediction, actual_purchases):\n",
    "        '''\n",
    "        :param most_popular_predict: dictionary like {user_id: [predicted products]}\n",
    "        :param item_based_predict: dictionary like {user_id: [predicted products]}\n",
    "        :param user_based_predict: dictionary like {user_id: [predicted products]}\n",
    "        :param actual_purchases: dictionary like {user_id: [actual products]}\n",
    "        '''\n",
    "        self.predictions = {'most popular': most_popular_prediction,\n",
    "                            'item based'  : item_based_prediction,\n",
    "                            'user based'  : user_based_prediction}\n",
    "        self.actual = actual_purchases\n",
    "        \n",
    "    # AP@k\n",
    "    def apk(self, actual, predicted, k=10):\n",
    "        \n",
    "        if len(predicted) > k:\n",
    "            predicted = predicted[:k]\n",
    "\n",
    "        score = 0.0\n",
    "        num_hits = 0.0\n",
    "\n",
    "        for i,p in enumerate(predicted):\n",
    "            if p in actual and p not in predicted[:i]:\n",
    "                num_hits += 1.0\n",
    "                score += num_hits / (i+1.0)\n",
    "\n",
    "        if not actual:\n",
    "            return 0.0\n",
    "\n",
    "        return score / min(len(actual), k)\n",
    "    \n",
    "    def fit(self, users_ids=False):\n",
    "        '''\n",
    "        :param user_ids: list with IDs of interesting users (2k)\n",
    "        :return: dict {user_id: [products ids from best prediction]}\n",
    "        '''\n",
    "        if not users_ids:\n",
    "            users_ids = [*self.predictions['user based']]\n",
    "\n",
    "        self.predictions, self.predictions_models = self.get_best_predictions(users_ids=users_ids)\n",
    "        return self.predictions, self.predictions_models\n",
    "    \n",
    "    def get_best_predictions(self, users_ids):\n",
    "        predictions = {}\n",
    "        predictions_models = {}\n",
    "        self.current_users_actual = {}\n",
    "        \n",
    "        d = {0: 'most popular', 1: 'item based', 2:'user based'}\n",
    "        \n",
    "        for user_id in users_ids:\n",
    "            if user_id in self.predictions['most popular'] and \\\n",
    "                user_id in self.predictions['item based'] and \\\n",
    "                user_id in self.predictions['user based'] and \\\n",
    "                user_id in self.actual:\n",
    "                \n",
    "                # в actual нет юзера с id7, поэтому проверку оставляем\n",
    "                \n",
    "                metrics = np.array([self.apk(self.actual[user_id], self.predictions['most popular'][user_id]),\n",
    "                                    self.apk(self.actual[user_id], self.predictions['item based'][user_id]),\n",
    "                                    self.apk(self.actual[user_id], self.predictions['user based'][user_id])])\n",
    "                \n",
    "                # результатом будет предсказание и название модели, сделавшей его\n",
    "                predictions_models[user_id] = d[np.argmax(metrics)]\n",
    "                predictions[user_id] = self.predictions[d[np.argmax(metrics)]][user_id]\n",
    "                self.current_users_actual[user_id] = self.actual[user_id]\n",
    "                \n",
    "        return predictions, predictions_models\n",
    "    \n",
    "    def predict(self, user_id=False):\n",
    "        if user_id:\n",
    "            return self.predictions[user_id], self.predictions_models[user_id]\n",
    "        else:\n",
    "            return self.predictions, self.predictions_models\n",
    "        \n",
    "    def get_actual(self):\n",
    "        return self.current_users_actual"
   ]
  },
  {
   "cell_type": "code",
   "execution_count": 53,
   "metadata": {},
   "outputs": [],
   "source": [
    "with open('data/item_based_interesting_users.pickle', 'rb') as f:\n",
    "    item_based_prediction = pickle.load(f)\n",
    "    \n",
    "with open('data/most_popular_full.pickle', 'rb') as f:\n",
    "    most_popular_prediction = pickle.load(f)\n",
    "    \n",
    "with open('data/full_actual_purchases.pickle', 'rb') as f:\n",
    "    actual_purchases = pickle.load(f)\n",
    "\n",
    "with open('users_subsample.pickle', 'rb') as input:\n",
    "        users_ids = pickle.load(input)\n",
    "\n",
    "with open('data/user_based_interesting_users.pickle', 'rb') as f:\n",
    "    user_based_prediction = pickle.load(f)"
   ]
  },
  {
   "cell_type": "code",
   "execution_count": 67,
   "metadata": {},
   "outputs": [
    {
     "data": {
      "text/plain": [
       "995"
      ]
     },
     "execution_count": 67,
     "metadata": {},
     "output_type": "execute_result"
    }
   ],
   "source": [
    "# число индексов генерящихся рандомно\n",
    "k = 0\n",
    "for _id in users_ids:\n",
    "    if _id not in item_based_prediction:\n",
    "        k += 1\n",
    "k"
   ]
  },
  {
   "cell_type": "code",
   "execution_count": 72,
   "metadata": {},
   "outputs": [],
   "source": [
    "predictor = Ensemble(most_popular_prediction, item_based_prediction, user_based_prediction, actual_purchases)\n",
    "predictor.fit(users_ids)\n",
    "predictions = predictor.predict()\n",
    "current_actual = predictor.get_actual()"
   ]
  },
  {
   "cell_type": "code",
   "execution_count": 73,
   "metadata": {},
   "outputs": [
    {
     "data": {
      "text/plain": [
       "defaultdict(int, {'item based': 629, 'user based': 154, 'most popular': 137})"
      ]
     },
     "execution_count": 73,
     "metadata": {},
     "output_type": "execute_result"
    }
   ],
   "source": [
    "# соотношение кто для скольких оказался лучшим\n",
    "d = defaultdict(int)\n",
    "for model in predictions[1].values():\n",
    "    d[model] +=1\n",
    "d"
   ]
  },
  {
   "cell_type": "code",
   "execution_count": 74,
   "metadata": {},
   "outputs": [
    {
     "name": "stdout",
     "output_type": "stream",
     "text": [
      "0.6706521739130434 0.4333010265700483 0.3900200872317525 0.36852555786805075\n"
     ]
    }
   ],
   "source": [
    "# метрички для ансамбля но только для 1000, почему-то тысяча в id генерилась рандомно, пересчитываем пока\n",
    "current_actual = predictor.get_actual()\n",
    "print(mapk(current_actual.values(), predictions[0].values(), k=1),\n",
    "      mapk(current_actual.values(), predictions[0].values(), k=5),\n",
    "      mapk(current_actual.values(), predictions[0].values(), k=10),\n",
    "      mapk(current_actual.values(), predictions[0].values(), k=30))"
   ]
  },
  {
   "cell_type": "code",
   "execution_count": 75,
   "metadata": {},
   "outputs": [
    {
     "name": "stdout",
     "output_type": "stream",
     "text": [
      "0.5673913043478261 0.3177530193236715 0.2845707312514377 0.2824318005615539\n"
     ]
    }
   ],
   "source": [
    "# исходные метрички для user_based\n",
    "\n",
    "# чтобы почекать старые пришлось извернуться - там почему-то перекручены ключи и просто зипануть не вышло\n",
    "user_based_pr = [user_based_prediction[_id] for _id in current_actual]\n",
    "\n",
    "print(mapk(current_actual.values(), user_based_pr, k=1),\n",
    "      mapk(current_actual.values(), user_based_pr, k=5),\n",
    "      mapk(current_actual.values(), user_based_pr, k=10),\n",
    "      mapk(current_actual.values(), user_based_pr, k=30))"
   ]
  },
  {
   "cell_type": "code",
   "execution_count": 76,
   "metadata": {},
   "outputs": [
    {
     "name": "stdout",
     "output_type": "stream",
     "text": [
      "0.08695652173913043 0.10041062801932367 0.09913101536911059 0.09577834099629977\n"
     ]
    }
   ],
   "source": [
    "# исходные метрички для most popular\n",
    "\n",
    "# чтобы почекать старые пришлось извернуться - там почему-то перекручены ключи и просто зипануть не вышло\n",
    "most_popular_pr = [most_popular_prediction[_id] for _id in current_actual]\n",
    "\n",
    "print(mapk(current_actual.values(), most_popular_pr, k=1),\n",
    "      mapk(current_actual.values(), most_popular_pr, k=5),\n",
    "      mapk(current_actual.values(), most_popular_pr, k=10),\n",
    "      mapk(current_actual.values(), most_popular_pr, k=30))"
   ]
  },
  {
   "cell_type": "code",
   "execution_count": null,
   "metadata": {},
   "outputs": [],
   "source": []
  }
 ],
 "metadata": {
  "kernelspec": {
   "display_name": "Python 3",
   "language": "python",
   "name": "python3"
  },
  "language_info": {
   "codemirror_mode": {
    "name": "ipython",
    "version": 3
   },
   "file_extension": ".py",
   "mimetype": "text/x-python",
   "name": "python",
   "nbconvert_exporter": "python",
   "pygments_lexer": "ipython3",
   "version": "3.7.6"
  }
 },
 "nbformat": 4,
 "nbformat_minor": 4
}
